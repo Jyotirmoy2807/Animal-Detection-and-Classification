{
 "cells": [
  {
   "cell_type": "code",
   "execution_count": null,
   "metadata": {},
   "outputs": [],
   "source": [
    "from ultralytics import YOLO\n",
    "import matplotlib.pyplot as plt\n",
    "import matplotlib.patches as patches\n",
    "\n",
    "model = YOLO('YOLO_Output-20241020T092431Z-001/YOLO_Output/detect/train/weights/best.pt')\n",
    "image_path = '/Test Images/download.jpg'\n",
    "\n",
    "results = model.predict(source=image_path, save=True, conf=0.25)\n",
    "\n",
    "result = results[0]\n",
    "\n",
    "img = result.orig_img\n",
    "\n",
    "boxes = result.boxes.xyxy.cpu().numpy()\n",
    "labels = result.boxes.cls.cpu().numpy()\n",
    "confidences = result.boxes.conf.cpu().numpy()  # Get confidence scores\n",
    "\n",
    "fig, ax = plt.subplots(1)\n",
    "ax.imshow(img)\n",
    "\n",
    "for box, label, confidence in zip(boxes, labels, confidences):\n",
    "    x1, y1, x2, y2 = box\n",
    "    rect = patches.Rectangle((x1, y1), x2 - x1, y2 - y1, linewidth=2, edgecolor='r', facecolor='none')\n",
    "    ax.add_patch(rect)\n",
    "    ax.text(x1, y1, f'{model.names[int(label)]}: {confidence:.2f}', color='r')  # Add confidence score to label\n",
    "\n",
    "plt.show()\n",
    "\n",
    "# Print detections with confidence scores\n",
    "for label, confidence in zip(labels, confidences):\n",
    "    print(f\"Detected {model.names[int(label)]} with confidence: {confidence:.2f}\")"
   ]
  }
 ],
 "metadata": {
  "language_info": {
   "name": "python"
  }
 },
 "nbformat": 4,
 "nbformat_minor": 2
}
